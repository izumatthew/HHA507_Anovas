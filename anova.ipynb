{
  "nbformat": 4,
  "nbformat_minor": 0,
  "metadata": {
    "colab": {
      "name": "anova.ipynb",
      "provenance": [],
      "authorship_tag": "ABX9TyP6kN3f8vVLovbSgwYTnMwL",
      "include_colab_link": true
    },
    "kernelspec": {
      "name": "python3",
      "display_name": "Python 3"
    },
    "language_info": {
      "name": "python"
    }
  },
  "cells": [
    {
      "cell_type": "markdown",
      "metadata": {
        "id": "view-in-github",
        "colab_type": "text"
      },
      "source": [
        "<a href=\"https://colab.research.google.com/github/izumatthew/HHA507_Anovas/blob/main/anova.ipynb\" target=\"_parent\"><img src=\"https://colab.research.google.com/assets/colab-badge.svg\" alt=\"Open In Colab\"/></a>"
      ]
    },
    {
      "cell_type": "code",
      "execution_count": 38,
      "metadata": {
        "id": "eJKZjk6MFipz"
      },
      "outputs": [],
      "source": [
        "import pandas as pd \n",
        "import seaborn as sns\n",
        "import scipy.stats as stats\n",
        "import numpy as np \n",
        "import statsmodels.api as sm\n",
        "from statsmodels.formula.api import ols\n",
        "import matplotlib.pyplot as plt\n",
        "import statsmodels.stats.multicomp as mc\n",
        "from scipy import stats "
      ]
    },
    {
      "cell_type": "markdown",
      "source": [
        ""
      ],
      "metadata": {
        "id": "ojWik99naMWd"
      }
    },
    {
      "cell_type": "code",
      "source": [
        "df = pd.read_csv('conditions.csv')"
      ],
      "metadata": {
        "id": "IK7q4WMaJXid"
      },
      "execution_count": 41,
      "outputs": []
    },
    {
      "cell_type": "code",
      "source": [
        "df"
      ],
      "metadata": {
        "colab": {
          "base_uri": "https://localhost:8080/",
          "height": 783
        },
        "id": "K8Ooa1CHLrPy",
        "outputId": "05ac9826-25ff-474f-d8fe-1483d3cf8ce4"
      },
      "execution_count": 42,
      "outputs": [
        {
          "output_type": "execute_result",
          "data": {
            "text/html": [
              "\n",
              "  <div id=\"df-22f11deb-419f-4ec5-b75e-f3485d64bda7\">\n",
              "    <div class=\"colab-df-container\">\n",
              "      <div>\n",
              "<style scoped>\n",
              "    .dataframe tbody tr th:only-of-type {\n",
              "        vertical-align: middle;\n",
              "    }\n",
              "\n",
              "    .dataframe tbody tr th {\n",
              "        vertical-align: top;\n",
              "    }\n",
              "\n",
              "    .dataframe thead th {\n",
              "        text-align: right;\n",
              "    }\n",
              "</style>\n",
              "<table border=\"1\" class=\"dataframe\">\n",
              "  <thead>\n",
              "    <tr style=\"text-align: right;\">\n",
              "      <th></th>\n",
              "      <th>Data As Of</th>\n",
              "      <th>Start Date</th>\n",
              "      <th>End Date</th>\n",
              "      <th>Group</th>\n",
              "      <th>Year</th>\n",
              "      <th>Month</th>\n",
              "      <th>State</th>\n",
              "      <th>Condition Group</th>\n",
              "      <th>Condition</th>\n",
              "      <th>ICD10_codes</th>\n",
              "      <th>Age Group</th>\n",
              "      <th>COVID-19 Deaths</th>\n",
              "      <th>Number of Mentions</th>\n",
              "      <th>Flag</th>\n",
              "    </tr>\n",
              "  </thead>\n",
              "  <tbody>\n",
              "    <tr>\n",
              "      <th>0</th>\n",
              "      <td>01/09/2022</td>\n",
              "      <td>01/01/2020</td>\n",
              "      <td>01/08/2022</td>\n",
              "      <td>By Total</td>\n",
              "      <td>NaN</td>\n",
              "      <td>NaN</td>\n",
              "      <td>United States</td>\n",
              "      <td>Respiratory diseases</td>\n",
              "      <td>Influenza and pneumonia</td>\n",
              "      <td>J09-J18</td>\n",
              "      <td>0-24</td>\n",
              "      <td>1070.0</td>\n",
              "      <td>1117.0</td>\n",
              "      <td>NaN</td>\n",
              "    </tr>\n",
              "    <tr>\n",
              "      <th>1</th>\n",
              "      <td>01/09/2022</td>\n",
              "      <td>01/01/2020</td>\n",
              "      <td>01/08/2022</td>\n",
              "      <td>By Total</td>\n",
              "      <td>NaN</td>\n",
              "      <td>NaN</td>\n",
              "      <td>United States</td>\n",
              "      <td>Respiratory diseases</td>\n",
              "      <td>Influenza and pneumonia</td>\n",
              "      <td>J09-J18</td>\n",
              "      <td>25-34</td>\n",
              "      <td>4623.0</td>\n",
              "      <td>4783.0</td>\n",
              "      <td>NaN</td>\n",
              "    </tr>\n",
              "    <tr>\n",
              "      <th>2</th>\n",
              "      <td>01/09/2022</td>\n",
              "      <td>01/01/2020</td>\n",
              "      <td>01/08/2022</td>\n",
              "      <td>By Total</td>\n",
              "      <td>NaN</td>\n",
              "      <td>NaN</td>\n",
              "      <td>United States</td>\n",
              "      <td>Respiratory diseases</td>\n",
              "      <td>Influenza and pneumonia</td>\n",
              "      <td>J09-J18</td>\n",
              "      <td>35-44</td>\n",
              "      <td>12278.0</td>\n",
              "      <td>12750.0</td>\n",
              "      <td>NaN</td>\n",
              "    </tr>\n",
              "    <tr>\n",
              "      <th>3</th>\n",
              "      <td>01/09/2022</td>\n",
              "      <td>01/01/2020</td>\n",
              "      <td>01/08/2022</td>\n",
              "      <td>By Total</td>\n",
              "      <td>NaN</td>\n",
              "      <td>NaN</td>\n",
              "      <td>United States</td>\n",
              "      <td>Respiratory diseases</td>\n",
              "      <td>Influenza and pneumonia</td>\n",
              "      <td>J09-J18</td>\n",
              "      <td>45-54</td>\n",
              "      <td>30638.0</td>\n",
              "      <td>31757.0</td>\n",
              "      <td>NaN</td>\n",
              "    </tr>\n",
              "    <tr>\n",
              "      <th>4</th>\n",
              "      <td>01/09/2022</td>\n",
              "      <td>01/01/2020</td>\n",
              "      <td>01/08/2022</td>\n",
              "      <td>By Total</td>\n",
              "      <td>NaN</td>\n",
              "      <td>NaN</td>\n",
              "      <td>United States</td>\n",
              "      <td>Respiratory diseases</td>\n",
              "      <td>Influenza and pneumonia</td>\n",
              "      <td>J09-J18</td>\n",
              "      <td>55-64</td>\n",
              "      <td>65867.0</td>\n",
              "      <td>68050.0</td>\n",
              "      <td>NaN</td>\n",
              "    </tr>\n",
              "    <tr>\n",
              "      <th>...</th>\n",
              "      <td>...</td>\n",
              "      <td>...</td>\n",
              "      <td>...</td>\n",
              "      <td>...</td>\n",
              "      <td>...</td>\n",
              "      <td>...</td>\n",
              "      <td>...</td>\n",
              "      <td>...</td>\n",
              "      <td>...</td>\n",
              "      <td>...</td>\n",
              "      <td>...</td>\n",
              "      <td>...</td>\n",
              "      <td>...</td>\n",
              "      <td>...</td>\n",
              "    </tr>\n",
              "    <tr>\n",
              "      <th>360175</th>\n",
              "      <td>01/09/2022</td>\n",
              "      <td>09/01/2021</td>\n",
              "      <td>09/30/2021</td>\n",
              "      <td>By Month</td>\n",
              "      <td>2021.0</td>\n",
              "      <td>9.0</td>\n",
              "      <td>Puerto Rico</td>\n",
              "      <td>COVID-19</td>\n",
              "      <td>COVID-19</td>\n",
              "      <td>U071</td>\n",
              "      <td>All Ages</td>\n",
              "      <td>266.0</td>\n",
              "      <td>266.0</td>\n",
              "      <td>NaN</td>\n",
              "    </tr>\n",
              "    <tr>\n",
              "      <th>360176</th>\n",
              "      <td>01/09/2022</td>\n",
              "      <td>10/01/2021</td>\n",
              "      <td>10/31/2021</td>\n",
              "      <td>By Month</td>\n",
              "      <td>2021.0</td>\n",
              "      <td>10.0</td>\n",
              "      <td>Puerto Rico</td>\n",
              "      <td>COVID-19</td>\n",
              "      <td>COVID-19</td>\n",
              "      <td>U071</td>\n",
              "      <td>All Ages</td>\n",
              "      <td>72.0</td>\n",
              "      <td>72.0</td>\n",
              "      <td>NaN</td>\n",
              "    </tr>\n",
              "    <tr>\n",
              "      <th>360177</th>\n",
              "      <td>01/09/2022</td>\n",
              "      <td>11/01/2021</td>\n",
              "      <td>11/30/2021</td>\n",
              "      <td>By Month</td>\n",
              "      <td>2021.0</td>\n",
              "      <td>11.0</td>\n",
              "      <td>Puerto Rico</td>\n",
              "      <td>COVID-19</td>\n",
              "      <td>COVID-19</td>\n",
              "      <td>U071</td>\n",
              "      <td>All Ages</td>\n",
              "      <td>27.0</td>\n",
              "      <td>27.0</td>\n",
              "      <td>NaN</td>\n",
              "    </tr>\n",
              "    <tr>\n",
              "      <th>360178</th>\n",
              "      <td>01/09/2022</td>\n",
              "      <td>12/01/2021</td>\n",
              "      <td>12/31/2021</td>\n",
              "      <td>By Month</td>\n",
              "      <td>2021.0</td>\n",
              "      <td>12.0</td>\n",
              "      <td>Puerto Rico</td>\n",
              "      <td>COVID-19</td>\n",
              "      <td>COVID-19</td>\n",
              "      <td>U071</td>\n",
              "      <td>All Ages</td>\n",
              "      <td>36.0</td>\n",
              "      <td>36.0</td>\n",
              "      <td>NaN</td>\n",
              "    </tr>\n",
              "    <tr>\n",
              "      <th>360179</th>\n",
              "      <td>01/09/2022</td>\n",
              "      <td>01/01/2022</td>\n",
              "      <td>01/08/2022</td>\n",
              "      <td>By Month</td>\n",
              "      <td>2022.0</td>\n",
              "      <td>1.0</td>\n",
              "      <td>Puerto Rico</td>\n",
              "      <td>COVID-19</td>\n",
              "      <td>COVID-19</td>\n",
              "      <td>U071</td>\n",
              "      <td>All Ages</td>\n",
              "      <td>0.0</td>\n",
              "      <td>0.0</td>\n",
              "      <td>NaN</td>\n",
              "    </tr>\n",
              "  </tbody>\n",
              "</table>\n",
              "<p>360180 rows × 14 columns</p>\n",
              "</div>\n",
              "      <button class=\"colab-df-convert\" onclick=\"convertToInteractive('df-22f11deb-419f-4ec5-b75e-f3485d64bda7')\"\n",
              "              title=\"Convert this dataframe to an interactive table.\"\n",
              "              style=\"display:none;\">\n",
              "        \n",
              "  <svg xmlns=\"http://www.w3.org/2000/svg\" height=\"24px\"viewBox=\"0 0 24 24\"\n",
              "       width=\"24px\">\n",
              "    <path d=\"M0 0h24v24H0V0z\" fill=\"none\"/>\n",
              "    <path d=\"M18.56 5.44l.94 2.06.94-2.06 2.06-.94-2.06-.94-.94-2.06-.94 2.06-2.06.94zm-11 1L8.5 8.5l.94-2.06 2.06-.94-2.06-.94L8.5 2.5l-.94 2.06-2.06.94zm10 10l.94 2.06.94-2.06 2.06-.94-2.06-.94-.94-2.06-.94 2.06-2.06.94z\"/><path d=\"M17.41 7.96l-1.37-1.37c-.4-.4-.92-.59-1.43-.59-.52 0-1.04.2-1.43.59L10.3 9.45l-7.72 7.72c-.78.78-.78 2.05 0 2.83L4 21.41c.39.39.9.59 1.41.59.51 0 1.02-.2 1.41-.59l7.78-7.78 2.81-2.81c.8-.78.8-2.07 0-2.86zM5.41 20L4 18.59l7.72-7.72 1.47 1.35L5.41 20z\"/>\n",
              "  </svg>\n",
              "      </button>\n",
              "      \n",
              "  <style>\n",
              "    .colab-df-container {\n",
              "      display:flex;\n",
              "      flex-wrap:wrap;\n",
              "      gap: 12px;\n",
              "    }\n",
              "\n",
              "    .colab-df-convert {\n",
              "      background-color: #E8F0FE;\n",
              "      border: none;\n",
              "      border-radius: 50%;\n",
              "      cursor: pointer;\n",
              "      display: none;\n",
              "      fill: #1967D2;\n",
              "      height: 32px;\n",
              "      padding: 0 0 0 0;\n",
              "      width: 32px;\n",
              "    }\n",
              "\n",
              "    .colab-df-convert:hover {\n",
              "      background-color: #E2EBFA;\n",
              "      box-shadow: 0px 1px 2px rgba(60, 64, 67, 0.3), 0px 1px 3px 1px rgba(60, 64, 67, 0.15);\n",
              "      fill: #174EA6;\n",
              "    }\n",
              "\n",
              "    [theme=dark] .colab-df-convert {\n",
              "      background-color: #3B4455;\n",
              "      fill: #D2E3FC;\n",
              "    }\n",
              "\n",
              "    [theme=dark] .colab-df-convert:hover {\n",
              "      background-color: #434B5C;\n",
              "      box-shadow: 0px 1px 3px 1px rgba(0, 0, 0, 0.15);\n",
              "      filter: drop-shadow(0px 1px 2px rgba(0, 0, 0, 0.3));\n",
              "      fill: #FFFFFF;\n",
              "    }\n",
              "  </style>\n",
              "\n",
              "      <script>\n",
              "        const buttonEl =\n",
              "          document.querySelector('#df-22f11deb-419f-4ec5-b75e-f3485d64bda7 button.colab-df-convert');\n",
              "        buttonEl.style.display =\n",
              "          google.colab.kernel.accessAllowed ? 'block' : 'none';\n",
              "\n",
              "        async function convertToInteractive(key) {\n",
              "          const element = document.querySelector('#df-22f11deb-419f-4ec5-b75e-f3485d64bda7');\n",
              "          const dataTable =\n",
              "            await google.colab.kernel.invokeFunction('convertToInteractive',\n",
              "                                                     [key], {});\n",
              "          if (!dataTable) return;\n",
              "\n",
              "          const docLinkHtml = 'Like what you see? Visit the ' +\n",
              "            '<a target=\"_blank\" href=https://colab.research.google.com/notebooks/data_table.ipynb>data table notebook</a>'\n",
              "            + ' to learn more about interactive tables.';\n",
              "          element.innerHTML = '';\n",
              "          dataTable['output_type'] = 'display_data';\n",
              "          await google.colab.output.renderOutput(dataTable, element);\n",
              "          const docLink = document.createElement('div');\n",
              "          docLink.innerHTML = docLinkHtml;\n",
              "          element.appendChild(docLink);\n",
              "        }\n",
              "      </script>\n",
              "    </div>\n",
              "  </div>\n",
              "  "
            ],
            "text/plain": [
              "        Data As Of  Start Date  ... Number of Mentions Flag\n",
              "0       01/09/2022  01/01/2020  ...             1117.0  NaN\n",
              "1       01/09/2022  01/01/2020  ...             4783.0  NaN\n",
              "2       01/09/2022  01/01/2020  ...            12750.0  NaN\n",
              "3       01/09/2022  01/01/2020  ...            31757.0  NaN\n",
              "4       01/09/2022  01/01/2020  ...            68050.0  NaN\n",
              "...            ...         ...  ...                ...  ...\n",
              "360175  01/09/2022  09/01/2021  ...              266.0  NaN\n",
              "360176  01/09/2022  10/01/2021  ...               72.0  NaN\n",
              "360177  01/09/2022  11/01/2021  ...               27.0  NaN\n",
              "360178  01/09/2022  12/01/2021  ...               36.0  NaN\n",
              "360179  01/09/2022  01/01/2022  ...                0.0  NaN\n",
              "\n",
              "[360180 rows x 14 columns]"
            ]
          },
          "metadata": {},
          "execution_count": 42
        }
      ]
    },
    {
      "cell_type": "code",
      "source": [
        "list (df)"
      ],
      "metadata": {
        "colab": {
          "base_uri": "https://localhost:8080/"
        },
        "id": "rIarHlWkPGlr",
        "outputId": "d2544c9b-ddc8-41f6-ce40-ea3538f7acae"
      },
      "execution_count": 43,
      "outputs": [
        {
          "output_type": "execute_result",
          "data": {
            "text/plain": [
              "['Data As Of',\n",
              " 'Start Date',\n",
              " 'End Date',\n",
              " 'Group',\n",
              " 'Year',\n",
              " 'Month',\n",
              " 'State',\n",
              " 'Condition Group',\n",
              " 'Condition',\n",
              " 'ICD10_codes',\n",
              " 'Age Group',\n",
              " 'COVID-19 Deaths',\n",
              " 'Number of Mentions',\n",
              " 'Flag']"
            ]
          },
          "metadata": {},
          "execution_count": 43
        }
      ]
    },
    {
      "cell_type": "markdown",
      "source": [
        ""
      ],
      "metadata": {
        "id": "JEMdtbf0PsTd"
      }
    },
    {
      "cell_type": "code",
      "source": [
        "df_conditions_boxplot = sns.boxplot(x='COVID-19 Deaths', y= 'Number of Mentions', data=df, palette=\"Set3\")"
      ],
      "metadata": {
        "colab": {
          "base_uri": "https://localhost:8080/",
          "height": 279
        },
        "id": "W0u3uWL8QWGJ",
        "outputId": "9f58a750-978f-42f7-c0ba-4f31652f7b4b"
      },
      "execution_count": 47,
      "outputs": [
        {
          "output_type": "display_data",
          "data": {
            "image/png": "[encoded data removed]",
            "text/plain": [
              "<Figure size 432x288 with 1 Axes>"
            ]
          },
          "metadata": {
            "needs_background": "light"
          }
        }
      ]
    },
    {
      "cell_type": "code",
      "source": [
        "df_vs_condition = sns.barplot(x='Age Group', y= 'COVID-19 Deaths', data=df, palette=\"Set1\")"
      ],
      "metadata": {
        "colab": {
          "base_uri": "https://localhost:8080/",
          "height": 281
        },
        "id": "-8-lMN0hQvQV",
        "outputId": "dcf59937-02ae-4606-da65-de88503acb8f"
      },
      "execution_count": 50,
      "outputs": [
        {
          "output_type": "display_data",
          "data": {
            "image/png": "[encoded data removed]",
            "text/plain": [
              "<Figure size 432x288 with 1 Axes>"
            ]
          },
          "metadata": {
            "needs_background": "light"
          }
        }
      ]
    },
    {
      "cell_type": "code",
      "source": [
        "df_vs_condition = sns.barplot(x='Condition Group', y= 'Number of Mentions', data=df, palette=\"Set1\")"
      ],
      "metadata": {
        "colab": {
          "base_uri": "https://localhost:8080/",
          "height": 279
        },
        "id": "bSFPROpefdk9",
        "outputId": "29db9ffd-a209-4271-9d95-a72eb181b489"
      },
      "execution_count": 54,
      "outputs": [
        {
          "output_type": "display_data",
          "data": {
            "image/png": "[encoded data removed]",
            "text/plain": [
              "<Figure size 432x288 with 1 Axes>"
            ]
          },
          "metadata": {
            "needs_background": "light"
          }
        }
      ]
    },
    {
      "cell_type": "code",
      "source": [
        "def rules(row):\n",
        "  if row['COVID-19_Deaths'] <= 5000 :\n",
        "    return 'abnormal'\n",
        "  elif row['COVID-19_Deaths'] <= 25000:\n",
        "    return 'normal'\n",
        "  elif row ['COVID-19_Deaths'] > 45000:\n",
        "    return 'high'"
      ],
      "metadata": {
        "id": "XeWu2qFWZ_Y7"
      },
      "execution_count": 6,
      "outputs": []
    },
    {
      "cell_type": "code",
      "source": [
        "def['COVID-19 Deaths_mod2'] = df.apply(rules,1)"
      ],
      "metadata": {
        "colab": {
          "base_uri": "https://localhost:8080/",
          "height": 131
        },
        "id": "775oiGG6ep2y",
        "outputId": "603ab754-8596-4836-d2bd-2df08abe709c"
      },
      "execution_count": 3,
      "outputs": [
        {
          "output_type": "error",
          "ename": "SyntaxError",
          "evalue": "ignored",
          "traceback": [
            "\u001b[0;36m  File \u001b[0;32m\"<ipython-input-3-4e8afd24e37f>\"\u001b[0;36m, line \u001b[0;32m1\u001b[0m\n\u001b[0;31m    def['COVID-19 Deaths_mod2'] = df.apply(rules,1)\u001b[0m\n\u001b[0m       ^\u001b[0m\n\u001b[0;31mSyntaxError\u001b[0m\u001b[0;31m:\u001b[0m invalid syntax\n"
          ]
        }
      ]
    },
    {
      "cell_type": "code",
      "source": [
        "df[['COVID-19_Deaths', 'COVID-19_Deaths_mod2']]"
      ],
      "metadata": {
        "colab": {
          "base_uri": "https://localhost:8080/",
          "height": 166
        },
        "id": "9faxTyVFfVLr",
        "outputId": "3b0ba772-36c8-4271-91ff-2333cad4dd14"
      },
      "execution_count": 3,
      "outputs": [
        {
          "output_type": "error",
          "ename": "NameError",
          "evalue": "ignored",
          "traceback": [
            "\u001b[0;31m---------------------------------------------------------------------------\u001b[0m",
            "\u001b[0;31mNameError\u001b[0m                                 Traceback (most recent call last)",
            "\u001b[0;32m<ipython-input-3-df0171d71b70>\u001b[0m in \u001b[0;36m<module>\u001b[0;34m()\u001b[0m\n\u001b[0;32m----> 1\u001b[0;31m \u001b[0mdf\u001b[0m\u001b[0;34m[\u001b[0m\u001b[0;34m[\u001b[0m\u001b[0;34m'COVID-19_Deaths'\u001b[0m\u001b[0;34m,\u001b[0m \u001b[0;34m'COVID-19_Deaths_mod2'\u001b[0m\u001b[0;34m]\u001b[0m\u001b[0;34m]\u001b[0m\u001b[0;34m\u001b[0m\u001b[0;34m\u001b[0m\u001b[0m\n\u001b[0m",
            "\u001b[0;31mNameError\u001b[0m: name 'df' is not defined"
          ]
        }
      ]
    },
    {
      "cell_type": "code",
      "source": [
        ")1 way A NOVA tests\n",
        "\n",
        "Is there significance between the number of COVID Deaths and age group?"
      ],
      "metadata": {
        "id": "tRNMEYjhpBhc"
      },
      "execution_count": null,
      "outputs": []
    },
    {
      "cell_type": "code",
      "source": [
        "model = ols('COVID-19 Deaths ~ C(Age Group)', data=df).fit()\n",
        "anova_table = sm.stats.anova_lm(model, typ=1)\n",
        "anova_table"
      ],
      "metadata": {
        "colab": {
          "base_uri": "https://localhost:8080/",
          "height": 131
        },
        "id": "aTyg-1tfppyW",
        "outputId": "e7960cbd-cfd1-43f3-f33e-9a41eb755608"
      },
      "execution_count": 15,
      "outputs": [
        {
          "output_type": "error",
          "ename": "SyntaxError",
          "evalue": "ignored",
          "traceback": [
            "\u001b[0;36m  File \u001b[0;32m\"<ipython-input-15-76ceacd932d1>\"\u001b[0;36m, line \u001b[0;32m1\u001b[0m\n\u001b[0;31m    model = ('COVID-19 Deaths ~ C(Age Group)', data=df).fit()\u001b[0m\n\u001b[0m                                                   ^\u001b[0m\n\u001b[0;31mSyntaxError\u001b[0m\u001b[0;31m:\u001b[0m invalid syntax\n"
          ]
        }
      ]
    },
    {
      "cell_type": "markdown",
      "source": [
        ""
      ],
      "metadata": {
        "id": "8RyPW8ASS6qK"
      }
    },
    {
      "cell_type": "code",
      "source": [
        "model = ols('anaemia ~ C(smoking)', data=df).fit()\n",
        "anova_table = sm.stats.anova_lm(model, typ=1)\n",
        "anova_table"
      ],
      "metadata": {
        "colab": {
          "base_uri": "https://localhost:8080/",
          "height": 201
        },
        "id": "axVfLr7pS5LC",
        "outputId": "79035d90-96f7-482c-edc1-0060ac84afc1"
      },
      "execution_count": 4,
      "outputs": [
        {
          "output_type": "error",
          "ename": "NameError",
          "evalue": "ignored",
          "traceback": [
            "\u001b[0;31m---------------------------------------------------------------------------\u001b[0m",
            "\u001b[0;31mNameError\u001b[0m                                 Traceback (most recent call last)",
            "\u001b[0;32m<ipython-input-4-a637e6d44d27>\u001b[0m in \u001b[0;36m<module>\u001b[0;34m()\u001b[0m\n\u001b[0;32m----> 1\u001b[0;31m \u001b[0mmodel\u001b[0m \u001b[0;34m=\u001b[0m \u001b[0mols\u001b[0m\u001b[0;34m(\u001b[0m\u001b[0;34m'anaemia ~ C(smoking)'\u001b[0m\u001b[0;34m,\u001b[0m \u001b[0mdata\u001b[0m\u001b[0;34m=\u001b[0m\u001b[0mdf\u001b[0m\u001b[0;34m)\u001b[0m\u001b[0;34m.\u001b[0m\u001b[0mfit\u001b[0m\u001b[0;34m(\u001b[0m\u001b[0;34m)\u001b[0m\u001b[0;34m\u001b[0m\u001b[0;34m\u001b[0m\u001b[0m\n\u001b[0m\u001b[1;32m      2\u001b[0m \u001b[0manova_table\u001b[0m \u001b[0;34m=\u001b[0m \u001b[0msm\u001b[0m\u001b[0;34m.\u001b[0m\u001b[0mstats\u001b[0m\u001b[0;34m.\u001b[0m\u001b[0manova_lm\u001b[0m\u001b[0;34m(\u001b[0m\u001b[0mmodel\u001b[0m\u001b[0;34m,\u001b[0m \u001b[0mtyp\u001b[0m\u001b[0;34m=\u001b[0m\u001b[0;36m1\u001b[0m\u001b[0;34m)\u001b[0m\u001b[0;34m\u001b[0m\u001b[0;34m\u001b[0m\u001b[0m\n\u001b[1;32m      3\u001b[0m \u001b[0manova_table\u001b[0m\u001b[0;34m\u001b[0m\u001b[0;34m\u001b[0m\u001b[0m\n",
            "\u001b[0;31mNameError\u001b[0m: name 'ols' is not defined"
          ]
        }
      ]
    },
    {
      "cell_type": "markdown",
      "source": [
        ""
      ],
      "metadata": {
        "id": "1qp1WxXDTHBx"
      }
    },
    {
      "cell_type": "code",
      "source": [
        "model = ols('anaemia ~ C(smoking)', data=df).fit()\n",
        "anova_table = sm.stats.anova_lm(model, typ=1)\n",
        "anova_table"
      ],
      "metadata": {
        "id": "1BdoU48mS_OE"
      },
      "execution_count": null,
      "outputs": []
    }
  ]
}